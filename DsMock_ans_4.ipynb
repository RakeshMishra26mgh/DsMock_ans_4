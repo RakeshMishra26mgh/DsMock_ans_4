{
  "nbformat": 4,
  "nbformat_minor": 0,
  "metadata": {
    "colab": {
      "provenance": [],
      "authorship_tag": "ABX9TyNQEK+jvPZwloS2QvnMRUlC",
      "include_colab_link": true
    },
    "kernelspec": {
      "name": "python3",
      "display_name": "Python 3"
    },
    "language_info": {
      "name": "python"
    }
  },
  "cells": [
    {
      "cell_type": "markdown",
      "metadata": {
        "id": "view-in-github",
        "colab_type": "text"
      },
      "source": [
        "<a href=\"https://colab.research.google.com/github/RakeshMishra26mgh/DsMock_ans_4/blob/main/DsMock_ans_4.ipynb\" target=\"_parent\"><img src=\"https://colab.research.google.com/assets/colab-badge.svg\" alt=\"Open In Colab\"/></a>"
      ]
    },
    {
      "cell_type": "code",
      "execution_count": null,
      "metadata": {
        "id": "HCA1T7c3Q-9P"
      },
      "outputs": [],
      "source": [
        "from scipy import stats\n",
        "def perform_hypothesis_test(sample1, sample2):\n",
        "    t_statistic, p_value = stats.ttest_ind(sample1, sample2)\n",
        "    return p_value\n",
        "\n",
        "a=input(\"enter the first sample elements separated by comma only:\")\n",
        "a_num=[int(n) for n in a.split(\",\") ]\n",
        "b=input(\"enter the second sample elements separatedby comma only:\")\n",
        "b_num=[int(n) for n in b.split(\",\") ]\n",
        "p_value = perform_hypothesis_test(a_num,b_num)\n",
        "print(\"P-value:\", p_value)"
      ]
    }
  ]
}